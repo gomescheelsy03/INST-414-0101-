{
  "nbformat": 4,
  "nbformat_minor": 0,
  "metadata": {
    "colab": {
      "provenance": [],
      "authorship_tag": "ABX9TyOK2rwT+Uyx+8kS5b1DLMDT",
      "include_colab_link": true
    },
    "kernelspec": {
      "name": "python3",
      "display_name": "Python 3"
    },
    "language_info": {
      "name": "python"
    }
  },
  "cells": [
    {
      "cell_type": "markdown",
      "metadata": {
        "id": "view-in-github",
        "colab_type": "text"
      },
      "source": [
        "<a href=\"https://colab.research.google.com/github/gomescheelsy03/INST-414-0101-/blob/main/W7_in_class_exercise_CGomes.ipynb\" target=\"_parent\"><img src=\"https://colab.research.google.com/assets/colab-badge.svg\" alt=\"Open In Colab\"/></a>"
      ]
    },
    {
      "cell_type": "code",
      "source": [
        "# Name: Chelsy Gomes\n",
        "# Instructor: Cody Buntain\n",
        "# Course: INST414 (0101)\n",
        "# Date: 10/17/2025\n",
        "# Assignment: In-Class Exercise Week 7"
      ],
      "metadata": {
        "id": "4U7MhogzWI3c"
      },
      "execution_count": 12,
      "outputs": []
    },
    {
      "cell_type": "markdown",
      "source": [
        "Exercise 1. Clustering Actors in the Actor-Genre Matrix"
      ],
      "metadata": {
        "id": "gM0dZsUjjQxA"
      }
    },
    {
      "cell_type": "code",
      "execution_count": 13,
      "metadata": {
        "id": "gqfzQgGNTnJX"
      },
      "outputs": [],
      "source": [
        "import pandas as pd\n",
        "import numpy as np\n",
        "from sklearn.cluster import KMeans"
      ]
    },
    {
      "cell_type": "code",
      "source": [
        "actor_to_genre_df = pd.read_csv(\"/content/imdb_movies_2000to2022.actorXgenre.csv\", index_col=\"actor_id\")"
      ],
      "metadata": {
        "id": "6dMlibI0WIVE"
      },
      "execution_count": 14,
      "outputs": []
    },
    {
      "cell_type": "code",
      "source": [
        "actor_to_genre_df=actor_to_genre_df.fillna(0)"
      ],
      "metadata": {
        "id": "ajVKQG3VWslR"
      },
      "execution_count": 15,
      "outputs": []
    },
    {
      "cell_type": "code",
      "source": [
        "actor_to_genre_df=actor_to_genre_df.apply(pd.to_numeric,errors=\"coerce\").fillna(0)"
      ],
      "metadata": {
        "id": "1NmPN4YWW26G"
      },
      "execution_count": 16,
      "outputs": []
    },
    {
      "cell_type": "code",
      "source": [
        "actor_to_genre_df=actor_to_genre_df.reindex(sorted(actor_to_genre_df.columns), axis=1)"
      ],
      "metadata": {
        "id": "g5i0vBimXb7j"
      },
      "execution_count": 17,
      "outputs": []
    },
    {
      "cell_type": "code",
      "source": [
        "print(\"matrix:\",actor_to_genre_df.shape)"
      ],
      "metadata": {
        "colab": {
          "base_uri": "https://localhost:8080/"
        },
        "id": "r0YCW7xMXpLa",
        "outputId": "3ba3d96f-c815-4d7d-ad13-5a8851d6c294"
      },
      "execution_count": 18,
      "outputs": [
        {
          "output_type": "stream",
          "name": "stdout",
          "text": [
            "matrix: (33609, 25)\n"
          ]
        }
      ]
    },
    {
      "cell_type": "code",
      "source": [
        "k=8"
      ],
      "metadata": {
        "id": "BLUL5uQdX76k"
      },
      "execution_count": 19,
      "outputs": []
    },
    {
      "cell_type": "code",
      "source": [
        "kmeans= KMeans(n_clusters=k,n_init=10,random_state=42)"
      ],
      "metadata": {
        "id": "Ijp_-P4NYGi2"
      },
      "execution_count": 20,
      "outputs": []
    },
    {
      "cell_type": "code",
      "source": [
        "cluster_labels=kmeans.fit_predict(actor_to_genre_df)"
      ],
      "metadata": {
        "id": "8bzh0xN_YYFv"
      },
      "execution_count": 21,
      "outputs": []
    },
    {
      "cell_type": "code",
      "source": [
        "actor_to_genre_df=pd.DataFrame({\"cluster\": cluster_labels},index=actor_to_genre_df.index)"
      ],
      "metadata": {
        "id": "HflvOxA2YgMT"
      },
      "execution_count": 22,
      "outputs": []
    },
    {
      "cell_type": "code",
      "source": [
        "print(\"\\nActors per cluster:\")\n",
        "print(actor_to_genre_df[\"cluster\"].value_counts().sort_index)"
      ],
      "metadata": {
        "colab": {
          "base_uri": "https://localhost:8080/"
        },
        "id": "NQNvrrh9Y_60",
        "outputId": "b79b5d93-deb7-425b-88dd-b7b619428694"
      },
      "execution_count": 23,
      "outputs": [
        {
          "output_type": "stream",
          "name": "stdout",
          "text": [
            "\n",
            "Actors per cluster:\n",
            "<bound method Series.sort_index of cluster\n",
            "1    29329\n",
            "0     2556\n",
            "7      870\n",
            "4      261\n",
            "5      249\n",
            "2      193\n",
            "6      135\n",
            "3       16\n",
            "Name: count, dtype: int64>\n"
          ]
        }
      ]
    },
    {
      "cell_type": "code",
      "source": [
        "rng= np.random.default_rng(42)"
      ],
      "metadata": {
        "id": "rsau8DgzZ5nk"
      },
      "execution_count": 24,
      "outputs": []
    },
    {
      "cell_type": "code",
      "source": [
        "rng = np.random.default_rng(42)\n",
        "\n",
        "for cluster_id, subset in actor_to_genre_df.groupby(\"cluster\"):\n",
        "    size = len(subset)\n",
        "    print(f\"\\nCluster {cluster_id} - size: {size}\")\n",
        "\n",
        "    take=min(5,size)\n",
        "    sampled_actor_ids= rng.choice(subset.index.to_numpy(), size=take, replace=False)\n",
        "    for a_id in sampled_actor_ids:\n",
        "        print(\" \",a_id)"
      ],
      "metadata": {
        "colab": {
          "base_uri": "https://localhost:8080/"
        },
        "id": "DBp_CdNhaBhn",
        "outputId": "c6f37366-f3c3-4fb9-ca64-1b44e16c3cde"
      },
      "execution_count": 25,
      "outputs": [
        {
          "output_type": "stream",
          "name": "stdout",
          "text": [
            "\n",
            "Cluster 0 - size: 2556\n",
            "  nm5444837\n",
            "  nm0560962\n",
            "  nm5232139\n",
            "  nm0000360\n",
            "  nm2092886\n",
            "\n",
            "Cluster 1 - size: 29329\n",
            "  nm10125845\n",
            "  nm0859365\n",
            "  nm4408716\n",
            "  nm1892588\n",
            "  nm3544366\n",
            "\n",
            "Cluster 2 - size: 193\n",
            "  nm0007123\n",
            "  nm1399243\n",
            "  nm0001303\n",
            "  nm0000219\n",
            "  nm0001235\n",
            "\n",
            "Cluster 3 - size: 16\n",
            "  nm0001744\n",
            "  nm0000579\n",
            "  nm0695177\n",
            "  nm0000246\n",
            "  nm0001803\n",
            "\n",
            "Cluster 4 - size: 261\n",
            "  nm0001624\n",
            "  nm1018488\n",
            "  nm1822659\n",
            "  nm0000337\n",
            "  nm0701512\n",
            "\n",
            "Cluster 5 - size: 249\n",
            "  nm1431656\n",
            "  nm0005253\n",
            "  nm0000518\n",
            "  nm2172377\n",
            "  nm0001117\n",
            "\n",
            "Cluster 6 - size: 135\n",
            "  nm0004193\n",
            "  nm1546474\n",
            "  nm0518739\n",
            "  nm3859710\n",
            "  nm0454809\n",
            "\n",
            "Cluster 7 - size: 870\n",
            "  nm0043199\n",
            "  nm0289098\n",
            "  nm0005476\n",
            "  nm0544718\n",
            "  nm3009275\n"
          ]
        }
      ]
    },
    {
      "cell_type": "markdown",
      "source": [
        "Extra Practice. Finding Similar Actors based on Co-stars"
      ],
      "metadata": {
        "id": "cQyI4PCAjS6v"
      }
    },
    {
      "cell_type": "code",
      "source": [
        "import pandas as pd\n",
        "import numpy as np\n",
        "from sklearn.cluster import KMeans\n",
        "from sklearn.preprocessing import normalize"
      ],
      "metadata": {
        "id": "1yhij_d7jWZY"
      },
      "execution_count": 26,
      "outputs": []
    },
    {
      "cell_type": "code",
      "source": [
        "actor_to_genre_df[\"cluster_ex1\"] = cluster_labels  # cluster_labels came from Exercise 1 fit_predict()\n",
        "actor_to_genre_df[[\"cluster_ex1\"]].to_csv(\"exercise1_labels.csv\")\n",
        "print(\"Saved:\", \"exercise1_labels.csv\")\n"
      ],
      "metadata": {
        "colab": {
          "base_uri": "https://localhost:8080/"
        },
        "id": "hnvZqpuDnOV5",
        "outputId": "d8bfd416-aabc-429d-a831-b18cba75ecdd"
      },
      "execution_count": 27,
      "outputs": [
        {
          "output_type": "stream",
          "name": "stdout",
          "text": [
            "Saved: exercise1_labels.csv\n"
          ]
        }
      ]
    },
    {
      "cell_type": "code",
      "source": [
        "actor_to_genre_df = pd.read_csv(\n",
        "    \"/content/imdb_movies_2000to2022.actorXgenre.csv\",\n",
        "    index_col=\"actor_id\"\n",
        ")\n",
        "\n",
        "actor_to_genre_df = actor_to_genre_df.fillna(0)\n",
        "actor_to_genre_df = actor_to_genre_df.apply(pd.to_numeric, errors=\"coerce\").fillna(0)\n",
        "\n",
        "# Sort columns alphabetically for consistency\n",
        "actor_to_genre_df = actor_to_genre_df.reindex(sorted(actor_to_genre_df.columns), axis=1)\n",
        "\n",
        "print(\"matrix:\", actor_to_genre_df.shape)\n"
      ],
      "metadata": {
        "colab": {
          "base_uri": "https://localhost:8080/"
        },
        "id": "uY7_lZn4ltbO",
        "outputId": "78a2113a-5fd9-4091-c798-f255185929e7"
      },
      "execution_count": 28,
      "outputs": [
        {
          "output_type": "stream",
          "name": "stdout",
          "text": [
            "matrix: (33609, 25)\n"
          ]
        }
      ]
    },
    {
      "cell_type": "code",
      "source": [
        "X_norm = normalize(actor_to_genre_df.to_numpy(), norm=\"l1\", axis=1, copy=True)\n",
        "\n",
        "# Verify normalization\n",
        "row_sums = X_norm.sum(axis=1)\n",
        "print(\"non-zero rows sum to 1.0 →\", np.allclose(row_sums[row_sums > 0], 1.0))\n"
      ],
      "metadata": {
        "colab": {
          "base_uri": "https://localhost:8080/"
        },
        "id": "7haSv0O4m38t",
        "outputId": "f7ccd69e-f709-41f2-8592-97ba6ec5ccd2"
      },
      "execution_count": 7,
      "outputs": [
        {
          "output_type": "stream",
          "name": "stdout",
          "text": [
            "non-zero rows sum to 1.0 → True\n"
          ]
        }
      ]
    },
    {
      "cell_type": "code",
      "source": [
        "k = 8\n",
        "kmeans_norm = KMeans(n_clusters=k, n_init=10, random_state=42)\n",
        "cluster_labels_ex2 = kmeans_norm.fit_predict(X_norm)\n",
        "\n",
        "# Create a new DataFrame with the normalized cluster labels\n",
        "clusters_ex2_df = pd.DataFrame({\"cluster_ex2\": cluster_labels_ex2},\n",
        "                               index=actor_to_genre_df.index)\n",
        "\n",
        "print(\"\\nActors per cluster (Exercise 2):\")\n",
        "print(clusters_ex2_df[\"cluster_ex2\"].value_counts().sort_index())\n"
      ],
      "metadata": {
        "colab": {
          "base_uri": "https://localhost:8080/"
        },
        "id": "5t_7Mwffm7H7",
        "outputId": "2af4d927-857f-44c9-e0f1-edbbf56d4a55"
      },
      "execution_count": 8,
      "outputs": [
        {
          "output_type": "stream",
          "name": "stdout",
          "text": [
            "\n",
            "Actors per cluster (Exercise 2):\n",
            "cluster_ex2\n",
            "0     6534\n",
            "1    10134\n",
            "2     4561\n",
            "3     4238\n",
            "4     2085\n",
            "5     4018\n",
            "6     1671\n",
            "7      368\n",
            "Name: count, dtype: int64\n"
          ]
        }
      ]
    },
    {
      "cell_type": "code",
      "source": [
        "rng = np.random.default_rng(42)\n",
        "\n",
        "for cluster_id, subset in clusters_ex2_df.groupby(\"cluster_ex2\"):\n",
        "    size = len(subset)\n",
        "    print(f\"\\nCluster {cluster_id} – size: {size}\")\n",
        "    take = min(5, size)\n",
        "    sampled_actor_ids = rng.choice(subset.index.to_numpy(), size=take, replace=False)\n",
        "    for a_id in sampled_actor_ids:\n",
        "        print(\" \", a_id)\n"
      ],
      "metadata": {
        "colab": {
          "base_uri": "https://localhost:8080/"
        },
        "id": "tOBsgF8Bm9X7",
        "outputId": "63c656a2-40fe-4cb3-c217-16533e00f9b1"
      },
      "execution_count": 9,
      "outputs": [
        {
          "output_type": "stream",
          "name": "stdout",
          "text": [
            "\n",
            "Cluster 0 – size: 6534\n",
            "  nm6086965\n",
            "  nm11818240\n",
            "  nm0724189\n",
            "  nm0189943\n",
            "  nm2970193\n",
            "\n",
            "Cluster 1 – size: 10134\n",
            "  nm4924757\n",
            "  nm0000566\n",
            "  nm1086501\n",
            "  nm0370796\n",
            "  nm3150125\n",
            "\n",
            "Cluster 2 – size: 4561\n",
            "  nm2800955\n",
            "  nm7871638\n",
            "  nm12531280\n",
            "  nm5346772\n",
            "  nm0515123\n",
            "\n",
            "Cluster 3 – size: 4238\n",
            "  nm4687147\n",
            "  nm7371997\n",
            "  nm12793998\n",
            "  nm7060111\n",
            "  nm7546472\n",
            "\n",
            "Cluster 4 – size: 2085\n",
            "  nm1483326\n",
            "  nm0315962\n",
            "  nm4747149\n",
            "  nm2706512\n",
            "  nm1701859\n",
            "\n",
            "Cluster 5 – size: 4018\n",
            "  nm10372239\n",
            "  nm2938039\n",
            "  nm3626571\n",
            "  nm5345347\n",
            "  nm2179940\n",
            "\n",
            "Cluster 6 – size: 1671\n",
            "  nm1413630\n",
            "  nm2347935\n",
            "  nm1323275\n",
            "  nm7118293\n",
            "  nm4105672\n",
            "\n",
            "Cluster 7 – size: 368\n",
            "  nm3319357\n",
            "  nm0219266\n",
            "  nm0072072\n",
            "  nm1092350\n",
            "  nm10031146\n"
          ]
        }
      ]
    },
    {
      "cell_type": "code",
      "source": [
        "# Load Exercise 1 labels\n",
        "ex1_labels_df = pd.read_csv(\"exercise1_labels.csv\").set_index(\"actor_id\")\n",
        "\n",
        "# Align both label sets to the same actor order\n",
        "ex1_aligned = ex1_labels_df.loc[clusters_ex2_df.index, \"cluster_ex1\"].to_numpy()\n",
        "ex2_aligned = clusters_ex2_df[\"cluster_ex2\"].to_numpy()\n"
      ],
      "metadata": {
        "id": "_atKvtHTnBxd"
      },
      "execution_count": 29,
      "outputs": []
    },
    {
      "cell_type": "code",
      "source": [
        "def jaccard_matrix(labels_a, labels_b):\n",
        "    a_vals = np.sort(np.unique(labels_a))\n",
        "    b_vals = np.sort(np.unique(labels_b))\n",
        "    J = np.zeros((len(a_vals), len(b_vals)))\n",
        "    for i, a in enumerate(a_vals):\n",
        "        A = set(np.where(labels_a == a)[0])\n",
        "        for j, b in enumerate(b_vals):\n",
        "            B = set(np.where(labels_b == b)[0])\n",
        "            inter = len(A & B)\n",
        "            union = len(A | B) if len(A | B) > 0 else 1\n",
        "            J[i, j] = inter / union\n",
        "    return a_vals, b_vals, J\n",
        "\n",
        "a_ids, b_ids, J = jaccard_matrix(ex1_aligned, ex2_aligned)\n",
        "J_df = pd.DataFrame(J,\n",
        "                    index=[f\"Ex1_{i}\" for i in a_ids],\n",
        "                    columns=[f\"Ex2_{j}\" for j in b_ids])\n",
        "J_df\n"
      ],
      "metadata": {
        "colab": {
          "base_uri": "https://localhost:8080/",
          "height": 300
        },
        "id": "jUMFLRg2nk0p",
        "outputId": "69c19787-7f09-4614-eb39-43b616ca447b"
      },
      "execution_count": 30,
      "outputs": [
        {
          "output_type": "execute_result",
          "data": {
            "text/plain": [
              "          Ex2_0     Ex2_1     Ex2_2     Ex2_3     Ex2_4     Ex2_5     Ex2_6  \\\n",
              "Ex1_0  0.051232  0.159328  0.037917  0.011915  0.001943  0.003052  0.000000   \n",
              "Ex1_1  0.192809  0.220858  0.139849  0.140687  0.070761  0.136223  0.056326   \n",
              "Ex1_2  0.004780  0.005256  0.022366  0.000678  0.000000  0.000000  0.000000   \n",
              "Ex1_3  0.000153  0.000493  0.002190  0.000000  0.000000  0.000000  0.000000   \n",
              "Ex1_4  0.016607  0.014641  0.000000  0.000000  0.000000  0.000000  0.000000   \n",
              "Ex1_5  0.000885  0.023662  0.000624  0.000000  0.000000  0.000000  0.000000   \n",
              "Ex1_6  0.013988  0.000682  0.001493  0.002522  0.000000  0.000000  0.010067   \n",
              "Ex1_7  0.007073  0.077872  0.003511  0.000784  0.000000  0.000000  0.000000   \n",
              "\n",
              "          Ex2_7  \n",
              "Ex1_0  0.000000  \n",
              "Ex1_1  0.012547  \n",
              "Ex1_2  0.000000  \n",
              "Ex1_3  0.000000  \n",
              "Ex1_4  0.000000  \n",
              "Ex1_5  0.000000  \n",
              "Ex1_6  0.000000  \n",
              "Ex1_7  0.000000  "
            ],
            "text/html": [
              "\n",
              "  <div id=\"df-56110e4c-4af1-4ce1-a147-6e21b50a9afc\" class=\"colab-df-container\">\n",
              "    <div>\n",
              "<style scoped>\n",
              "    .dataframe tbody tr th:only-of-type {\n",
              "        vertical-align: middle;\n",
              "    }\n",
              "\n",
              "    .dataframe tbody tr th {\n",
              "        vertical-align: top;\n",
              "    }\n",
              "\n",
              "    .dataframe thead th {\n",
              "        text-align: right;\n",
              "    }\n",
              "</style>\n",
              "<table border=\"1\" class=\"dataframe\">\n",
              "  <thead>\n",
              "    <tr style=\"text-align: right;\">\n",
              "      <th></th>\n",
              "      <th>Ex2_0</th>\n",
              "      <th>Ex2_1</th>\n",
              "      <th>Ex2_2</th>\n",
              "      <th>Ex2_3</th>\n",
              "      <th>Ex2_4</th>\n",
              "      <th>Ex2_5</th>\n",
              "      <th>Ex2_6</th>\n",
              "      <th>Ex2_7</th>\n",
              "    </tr>\n",
              "  </thead>\n",
              "  <tbody>\n",
              "    <tr>\n",
              "      <th>Ex1_0</th>\n",
              "      <td>0.051232</td>\n",
              "      <td>0.159328</td>\n",
              "      <td>0.037917</td>\n",
              "      <td>0.011915</td>\n",
              "      <td>0.001943</td>\n",
              "      <td>0.003052</td>\n",
              "      <td>0.000000</td>\n",
              "      <td>0.000000</td>\n",
              "    </tr>\n",
              "    <tr>\n",
              "      <th>Ex1_1</th>\n",
              "      <td>0.192809</td>\n",
              "      <td>0.220858</td>\n",
              "      <td>0.139849</td>\n",
              "      <td>0.140687</td>\n",
              "      <td>0.070761</td>\n",
              "      <td>0.136223</td>\n",
              "      <td>0.056326</td>\n",
              "      <td>0.012547</td>\n",
              "    </tr>\n",
              "    <tr>\n",
              "      <th>Ex1_2</th>\n",
              "      <td>0.004780</td>\n",
              "      <td>0.005256</td>\n",
              "      <td>0.022366</td>\n",
              "      <td>0.000678</td>\n",
              "      <td>0.000000</td>\n",
              "      <td>0.000000</td>\n",
              "      <td>0.000000</td>\n",
              "      <td>0.000000</td>\n",
              "    </tr>\n",
              "    <tr>\n",
              "      <th>Ex1_3</th>\n",
              "      <td>0.000153</td>\n",
              "      <td>0.000493</td>\n",
              "      <td>0.002190</td>\n",
              "      <td>0.000000</td>\n",
              "      <td>0.000000</td>\n",
              "      <td>0.000000</td>\n",
              "      <td>0.000000</td>\n",
              "      <td>0.000000</td>\n",
              "    </tr>\n",
              "    <tr>\n",
              "      <th>Ex1_4</th>\n",
              "      <td>0.016607</td>\n",
              "      <td>0.014641</td>\n",
              "      <td>0.000000</td>\n",
              "      <td>0.000000</td>\n",
              "      <td>0.000000</td>\n",
              "      <td>0.000000</td>\n",
              "      <td>0.000000</td>\n",
              "      <td>0.000000</td>\n",
              "    </tr>\n",
              "    <tr>\n",
              "      <th>Ex1_5</th>\n",
              "      <td>0.000885</td>\n",
              "      <td>0.023662</td>\n",
              "      <td>0.000624</td>\n",
              "      <td>0.000000</td>\n",
              "      <td>0.000000</td>\n",
              "      <td>0.000000</td>\n",
              "      <td>0.000000</td>\n",
              "      <td>0.000000</td>\n",
              "    </tr>\n",
              "    <tr>\n",
              "      <th>Ex1_6</th>\n",
              "      <td>0.013988</td>\n",
              "      <td>0.000682</td>\n",
              "      <td>0.001493</td>\n",
              "      <td>0.002522</td>\n",
              "      <td>0.000000</td>\n",
              "      <td>0.000000</td>\n",
              "      <td>0.010067</td>\n",
              "      <td>0.000000</td>\n",
              "    </tr>\n",
              "    <tr>\n",
              "      <th>Ex1_7</th>\n",
              "      <td>0.007073</td>\n",
              "      <td>0.077872</td>\n",
              "      <td>0.003511</td>\n",
              "      <td>0.000784</td>\n",
              "      <td>0.000000</td>\n",
              "      <td>0.000000</td>\n",
              "      <td>0.000000</td>\n",
              "      <td>0.000000</td>\n",
              "    </tr>\n",
              "  </tbody>\n",
              "</table>\n",
              "</div>\n",
              "    <div class=\"colab-df-buttons\">\n",
              "\n",
              "  <div class=\"colab-df-container\">\n",
              "    <button class=\"colab-df-convert\" onclick=\"convertToInteractive('df-56110e4c-4af1-4ce1-a147-6e21b50a9afc')\"\n",
              "            title=\"Convert this dataframe to an interactive table.\"\n",
              "            style=\"display:none;\">\n",
              "\n",
              "  <svg xmlns=\"http://www.w3.org/2000/svg\" height=\"24px\" viewBox=\"0 -960 960 960\">\n",
              "    <path d=\"M120-120v-720h720v720H120Zm60-500h600v-160H180v160Zm220 220h160v-160H400v160Zm0 220h160v-160H400v160ZM180-400h160v-160H180v160Zm440 0h160v-160H620v160ZM180-180h160v-160H180v160Zm440 0h160v-160H620v160Z\"/>\n",
              "  </svg>\n",
              "    </button>\n",
              "\n",
              "  <style>\n",
              "    .colab-df-container {\n",
              "      display:flex;\n",
              "      gap: 12px;\n",
              "    }\n",
              "\n",
              "    .colab-df-convert {\n",
              "      background-color: #E8F0FE;\n",
              "      border: none;\n",
              "      border-radius: 50%;\n",
              "      cursor: pointer;\n",
              "      display: none;\n",
              "      fill: #1967D2;\n",
              "      height: 32px;\n",
              "      padding: 0 0 0 0;\n",
              "      width: 32px;\n",
              "    }\n",
              "\n",
              "    .colab-df-convert:hover {\n",
              "      background-color: #E2EBFA;\n",
              "      box-shadow: 0px 1px 2px rgba(60, 64, 67, 0.3), 0px 1px 3px 1px rgba(60, 64, 67, 0.15);\n",
              "      fill: #174EA6;\n",
              "    }\n",
              "\n",
              "    .colab-df-buttons div {\n",
              "      margin-bottom: 4px;\n",
              "    }\n",
              "\n",
              "    [theme=dark] .colab-df-convert {\n",
              "      background-color: #3B4455;\n",
              "      fill: #D2E3FC;\n",
              "    }\n",
              "\n",
              "    [theme=dark] .colab-df-convert:hover {\n",
              "      background-color: #434B5C;\n",
              "      box-shadow: 0px 1px 3px 1px rgba(0, 0, 0, 0.15);\n",
              "      filter: drop-shadow(0px 1px 2px rgba(0, 0, 0, 0.3));\n",
              "      fill: #FFFFFF;\n",
              "    }\n",
              "  </style>\n",
              "\n",
              "    <script>\n",
              "      const buttonEl =\n",
              "        document.querySelector('#df-56110e4c-4af1-4ce1-a147-6e21b50a9afc button.colab-df-convert');\n",
              "      buttonEl.style.display =\n",
              "        google.colab.kernel.accessAllowed ? 'block' : 'none';\n",
              "\n",
              "      async function convertToInteractive(key) {\n",
              "        const element = document.querySelector('#df-56110e4c-4af1-4ce1-a147-6e21b50a9afc');\n",
              "        const dataTable =\n",
              "          await google.colab.kernel.invokeFunction('convertToInteractive',\n",
              "                                                    [key], {});\n",
              "        if (!dataTable) return;\n",
              "\n",
              "        const docLinkHtml = 'Like what you see? Visit the ' +\n",
              "          '<a target=\"_blank\" href=https://colab.research.google.com/notebooks/data_table.ipynb>data table notebook</a>'\n",
              "          + ' to learn more about interactive tables.';\n",
              "        element.innerHTML = '';\n",
              "        dataTable['output_type'] = 'display_data';\n",
              "        await google.colab.output.renderOutput(dataTable, element);\n",
              "        const docLink = document.createElement('div');\n",
              "        docLink.innerHTML = docLinkHtml;\n",
              "        element.appendChild(docLink);\n",
              "      }\n",
              "    </script>\n",
              "  </div>\n",
              "\n",
              "\n",
              "    <div id=\"df-c84f7668-c5a7-49ea-8486-1f8432d50a0c\">\n",
              "      <button class=\"colab-df-quickchart\" onclick=\"quickchart('df-c84f7668-c5a7-49ea-8486-1f8432d50a0c')\"\n",
              "                title=\"Suggest charts\"\n",
              "                style=\"display:none;\">\n",
              "\n",
              "<svg xmlns=\"http://www.w3.org/2000/svg\" height=\"24px\"viewBox=\"0 0 24 24\"\n",
              "     width=\"24px\">\n",
              "    <g>\n",
              "        <path d=\"M19 3H5c-1.1 0-2 .9-2 2v14c0 1.1.9 2 2 2h14c1.1 0 2-.9 2-2V5c0-1.1-.9-2-2-2zM9 17H7v-7h2v7zm4 0h-2V7h2v10zm4 0h-2v-4h2v4z\"/>\n",
              "    </g>\n",
              "</svg>\n",
              "      </button>\n",
              "\n",
              "<style>\n",
              "  .colab-df-quickchart {\n",
              "      --bg-color: #E8F0FE;\n",
              "      --fill-color: #1967D2;\n",
              "      --hover-bg-color: #E2EBFA;\n",
              "      --hover-fill-color: #174EA6;\n",
              "      --disabled-fill-color: #AAA;\n",
              "      --disabled-bg-color: #DDD;\n",
              "  }\n",
              "\n",
              "  [theme=dark] .colab-df-quickchart {\n",
              "      --bg-color: #3B4455;\n",
              "      --fill-color: #D2E3FC;\n",
              "      --hover-bg-color: #434B5C;\n",
              "      --hover-fill-color: #FFFFFF;\n",
              "      --disabled-bg-color: #3B4455;\n",
              "      --disabled-fill-color: #666;\n",
              "  }\n",
              "\n",
              "  .colab-df-quickchart {\n",
              "    background-color: var(--bg-color);\n",
              "    border: none;\n",
              "    border-radius: 50%;\n",
              "    cursor: pointer;\n",
              "    display: none;\n",
              "    fill: var(--fill-color);\n",
              "    height: 32px;\n",
              "    padding: 0;\n",
              "    width: 32px;\n",
              "  }\n",
              "\n",
              "  .colab-df-quickchart:hover {\n",
              "    background-color: var(--hover-bg-color);\n",
              "    box-shadow: 0 1px 2px rgba(60, 64, 67, 0.3), 0 1px 3px 1px rgba(60, 64, 67, 0.15);\n",
              "    fill: var(--button-hover-fill-color);\n",
              "  }\n",
              "\n",
              "  .colab-df-quickchart-complete:disabled,\n",
              "  .colab-df-quickchart-complete:disabled:hover {\n",
              "    background-color: var(--disabled-bg-color);\n",
              "    fill: var(--disabled-fill-color);\n",
              "    box-shadow: none;\n",
              "  }\n",
              "\n",
              "  .colab-df-spinner {\n",
              "    border: 2px solid var(--fill-color);\n",
              "    border-color: transparent;\n",
              "    border-bottom-color: var(--fill-color);\n",
              "    animation:\n",
              "      spin 1s steps(1) infinite;\n",
              "  }\n",
              "\n",
              "  @keyframes spin {\n",
              "    0% {\n",
              "      border-color: transparent;\n",
              "      border-bottom-color: var(--fill-color);\n",
              "      border-left-color: var(--fill-color);\n",
              "    }\n",
              "    20% {\n",
              "      border-color: transparent;\n",
              "      border-left-color: var(--fill-color);\n",
              "      border-top-color: var(--fill-color);\n",
              "    }\n",
              "    30% {\n",
              "      border-color: transparent;\n",
              "      border-left-color: var(--fill-color);\n",
              "      border-top-color: var(--fill-color);\n",
              "      border-right-color: var(--fill-color);\n",
              "    }\n",
              "    40% {\n",
              "      border-color: transparent;\n",
              "      border-right-color: var(--fill-color);\n",
              "      border-top-color: var(--fill-color);\n",
              "    }\n",
              "    60% {\n",
              "      border-color: transparent;\n",
              "      border-right-color: var(--fill-color);\n",
              "    }\n",
              "    80% {\n",
              "      border-color: transparent;\n",
              "      border-right-color: var(--fill-color);\n",
              "      border-bottom-color: var(--fill-color);\n",
              "    }\n",
              "    90% {\n",
              "      border-color: transparent;\n",
              "      border-bottom-color: var(--fill-color);\n",
              "    }\n",
              "  }\n",
              "</style>\n",
              "\n",
              "      <script>\n",
              "        async function quickchart(key) {\n",
              "          const quickchartButtonEl =\n",
              "            document.querySelector('#' + key + ' button');\n",
              "          quickchartButtonEl.disabled = true;  // To prevent multiple clicks.\n",
              "          quickchartButtonEl.classList.add('colab-df-spinner');\n",
              "          try {\n",
              "            const charts = await google.colab.kernel.invokeFunction(\n",
              "                'suggestCharts', [key], {});\n",
              "          } catch (error) {\n",
              "            console.error('Error during call to suggestCharts:', error);\n",
              "          }\n",
              "          quickchartButtonEl.classList.remove('colab-df-spinner');\n",
              "          quickchartButtonEl.classList.add('colab-df-quickchart-complete');\n",
              "        }\n",
              "        (() => {\n",
              "          let quickchartButtonEl =\n",
              "            document.querySelector('#df-c84f7668-c5a7-49ea-8486-1f8432d50a0c button');\n",
              "          quickchartButtonEl.style.display =\n",
              "            google.colab.kernel.accessAllowed ? 'block' : 'none';\n",
              "        })();\n",
              "      </script>\n",
              "    </div>\n",
              "\n",
              "  <div id=\"id_ed0503c3-73d3-4d93-8c43-2e465afd1fa8\">\n",
              "    <style>\n",
              "      .colab-df-generate {\n",
              "        background-color: #E8F0FE;\n",
              "        border: none;\n",
              "        border-radius: 50%;\n",
              "        cursor: pointer;\n",
              "        display: none;\n",
              "        fill: #1967D2;\n",
              "        height: 32px;\n",
              "        padding: 0 0 0 0;\n",
              "        width: 32px;\n",
              "      }\n",
              "\n",
              "      .colab-df-generate:hover {\n",
              "        background-color: #E2EBFA;\n",
              "        box-shadow: 0px 1px 2px rgba(60, 64, 67, 0.3), 0px 1px 3px 1px rgba(60, 64, 67, 0.15);\n",
              "        fill: #174EA6;\n",
              "      }\n",
              "\n",
              "      [theme=dark] .colab-df-generate {\n",
              "        background-color: #3B4455;\n",
              "        fill: #D2E3FC;\n",
              "      }\n",
              "\n",
              "      [theme=dark] .colab-df-generate:hover {\n",
              "        background-color: #434B5C;\n",
              "        box-shadow: 0px 1px 3px 1px rgba(0, 0, 0, 0.15);\n",
              "        filter: drop-shadow(0px 1px 2px rgba(0, 0, 0, 0.3));\n",
              "        fill: #FFFFFF;\n",
              "      }\n",
              "    </style>\n",
              "    <button class=\"colab-df-generate\" onclick=\"generateWithVariable('J_df')\"\n",
              "            title=\"Generate code using this dataframe.\"\n",
              "            style=\"display:none;\">\n",
              "\n",
              "  <svg xmlns=\"http://www.w3.org/2000/svg\" height=\"24px\"viewBox=\"0 0 24 24\"\n",
              "       width=\"24px\">\n",
              "    <path d=\"M7,19H8.4L18.45,9,17,7.55,7,17.6ZM5,21V16.75L18.45,3.32a2,2,0,0,1,2.83,0l1.4,1.43a1.91,1.91,0,0,1,.58,1.4,1.91,1.91,0,0,1-.58,1.4L9.25,21ZM18.45,9,17,7.55Zm-12,3A5.31,5.31,0,0,0,4.9,8.1,5.31,5.31,0,0,0,1,6.5,5.31,5.31,0,0,0,4.9,4.9,5.31,5.31,0,0,0,6.5,1,5.31,5.31,0,0,0,8.1,4.9,5.31,5.31,0,0,0,12,6.5,5.46,5.46,0,0,0,6.5,12Z\"/>\n",
              "  </svg>\n",
              "    </button>\n",
              "    <script>\n",
              "      (() => {\n",
              "      const buttonEl =\n",
              "        document.querySelector('#id_ed0503c3-73d3-4d93-8c43-2e465afd1fa8 button.colab-df-generate');\n",
              "      buttonEl.style.display =\n",
              "        google.colab.kernel.accessAllowed ? 'block' : 'none';\n",
              "\n",
              "      buttonEl.onclick = () => {\n",
              "        google.colab.notebook.generateWithVariable('J_df');\n",
              "      }\n",
              "      })();\n",
              "    </script>\n",
              "  </div>\n",
              "\n",
              "    </div>\n",
              "  </div>\n"
            ],
            "application/vnd.google.colaboratory.intrinsic+json": {
              "type": "dataframe",
              "variable_name": "J_df",
              "summary": "{\n  \"name\": \"J_df\",\n  \"rows\": 8,\n  \"fields\": [\n    {\n      \"column\": \"Ex2_0\",\n      \"properties\": {\n        \"dtype\": \"number\",\n        \"std\": 0.06547764674292428,\n        \"min\": 0.00015269506794930523,\n        \"max\": 0.19280915319630146,\n        \"num_unique_values\": 8,\n        \"samples\": [\n          0.19280915319630146,\n          0.0008853474988933156,\n          0.05123164103157164\n        ],\n        \"semantic_type\": \"\",\n        \"description\": \"\"\n      }\n    },\n    {\n      \"column\": \"Ex2_1\",\n      \"properties\": {\n        \"dtype\": \"number\",\n        \"std\": 0.08403236763341998,\n        \"min\": 0.0004928536224741252,\n        \"max\": 0.2208575671327806,\n        \"num_unique_values\": 8,\n        \"samples\": [\n          0.2208575671327806,\n          0.023661638568470866,\n          0.15932760825872463\n        ],\n        \"semantic_type\": \"\",\n        \"description\": \"\"\n      }\n    },\n    {\n      \"column\": \"Ex2_2\",\n      \"properties\": {\n        \"dtype\": \"number\",\n        \"std\": 0.04797341691622767,\n        \"min\": 0.0,\n        \"max\": 0.1398493205973362,\n        \"num_unique_values\": 8,\n        \"samples\": [\n          0.1398493205973362,\n          0.0006240898689411275,\n          0.03791745661367945\n        ],\n        \"semantic_type\": \"\",\n        \"description\": \"\"\n      }\n    },\n    {\n      \"column\": \"Ex2_3\",\n      \"properties\": {\n        \"dtype\": \"number\",\n        \"std\": 0.049102514476255014,\n        \"min\": 0.0,\n        \"max\": 0.14068712406973188,\n        \"num_unique_values\": 6,\n        \"samples\": [\n          0.011915400655347037,\n          0.14068712406973188,\n          0.0007836990595611285\n        ],\n        \"semantic_type\": \"\",\n        \"description\": \"\"\n      }\n    },\n    {\n      \"column\": \"Ex2_4\",\n      \"properties\": {\n        \"dtype\": \"number\",\n        \"std\": 0.024929094556732312,\n        \"min\": 0.0,\n        \"max\": 0.07076146976617356,\n        \"num_unique_values\": 3,\n        \"samples\": [\n          0.0019430051813471502,\n          0.07076146976617356,\n          0.0\n        ],\n        \"semantic_type\": \"\",\n        \"description\": \"\"\n      }\n    },\n    {\n      \"column\": \"Ex2_5\",\n      \"properties\": {\n        \"dtype\": \"number\",\n        \"std\": 0.048019743802373824,\n        \"min\": 0.0,\n        \"max\": 0.13622269924017855,\n        \"num_unique_values\": 3,\n        \"samples\": [\n          0.003051571559353067,\n          0.13622269924017855,\n          0.0\n        ],\n        \"semantic_type\": \"\",\n        \"description\": \"\"\n      }\n    },\n    {\n      \"column\": \"Ex2_6\",\n      \"properties\": {\n        \"dtype\": \"number\",\n        \"std\": 0.01972294615785136,\n        \"min\": 0.0,\n        \"max\": 0.05632602991787917,\n        \"num_unique_values\": 3,\n        \"samples\": [\n          0.0,\n          0.05632602991787917,\n          0.010067114093959731\n        ],\n        \"semantic_type\": \"\",\n        \"description\": \"\"\n      }\n    },\n    {\n      \"column\": \"Ex2_7\",\n      \"properties\": {\n        \"dtype\": \"number\",\n        \"std\": 0.004436143330434887,\n        \"min\": 0.0,\n        \"max\": 0.01254730812506393,\n        \"num_unique_values\": 2,\n        \"samples\": [\n          0.01254730812506393,\n          0.0\n        ],\n        \"semantic_type\": \"\",\n        \"description\": \"\"\n      }\n    }\n  ]\n}"
            }
          },
          "metadata": {},
          "execution_count": 30
        }
      ]
    },
    {
      "cell_type": "code",
      "source": [
        "best_matches = {}\n",
        "for i, a in enumerate(a_ids):\n",
        "    j_best = int(np.argmax(J[i]))\n",
        "    best_matches[f\"Ex1_{a}\"] = f\"Ex2_{b_ids[j_best]}  (J={J[i, j_best]:.3f})\"\n",
        "\n",
        "best_matches\n"
      ],
      "metadata": {
        "colab": {
          "base_uri": "https://localhost:8080/"
        },
        "id": "Gi7bkucHnmMc",
        "outputId": "5a64c4bf-d2b4-441d-b9df-c7d70234cc5f"
      },
      "execution_count": 31,
      "outputs": [
        {
          "output_type": "execute_result",
          "data": {
            "text/plain": [
              "{'Ex1_0': 'Ex2_1  (J=0.159)',\n",
              " 'Ex1_1': 'Ex2_1  (J=0.221)',\n",
              " 'Ex1_2': 'Ex2_2  (J=0.022)',\n",
              " 'Ex1_3': 'Ex2_2  (J=0.002)',\n",
              " 'Ex1_4': 'Ex2_0  (J=0.017)',\n",
              " 'Ex1_5': 'Ex2_1  (J=0.024)',\n",
              " 'Ex1_6': 'Ex2_0  (J=0.014)',\n",
              " 'Ex1_7': 'Ex2_1  (J=0.078)'}"
            ]
          },
          "metadata": {},
          "execution_count": 31
        }
      ]
    }
  ]
}