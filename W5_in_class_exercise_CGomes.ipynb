{
  "nbformat": 4,
  "nbformat_minor": 0,
  "metadata": {
    "colab": {
      "provenance": [],
      "authorship_tag": "ABX9TyOYuht3QRkcrIUWRT4TUROy",
      "include_colab_link": true
    },
    "kernelspec": {
      "name": "python3",
      "display_name": "Python 3"
    },
    "language_info": {
      "name": "python"
    }
  },
  "cells": [
    {
      "cell_type": "markdown",
      "metadata": {
        "id": "view-in-github",
        "colab_type": "text"
      },
      "source": [
        "<a href=\"https://colab.research.google.com/github/gomescheelsy03/INST-414-0101-/blob/main/W5_in_class_exercise_CGomes.ipynb\" target=\"_parent\"><img src=\"https://colab.research.google.com/assets/colab-badge.svg\" alt=\"Open In Colab\"/></a>"
      ]
    },
    {
      "cell_type": "code",
      "execution_count": null,
      "metadata": {
        "id": "7IbhupnOlu65"
      },
      "outputs": [],
      "source": [
        "# Name: Chelsy Gomes\n",
        "# Instructor: Cody Buntain\n",
        "# Course: INST414 (0101)\n",
        "# Date: 10/10/2025\n",
        "# Assignment: In-Class Exercise Week 5"
      ]
    },
    {
      "cell_type": "markdown",
      "source": [
        "Exercise 1. Normalizing Actor-Genre Matrix"
      ],
      "metadata": {
        "id": "6aL6oQUpalz2"
      }
    },
    {
      "cell_type": "code",
      "source": [
        "import pandas as pd\n",
        "import json\n",
        "import matplotlib.pyplot as plt\n",
        "from sklearn.metrics import DistanceMetric, pairwise_distances\n",
        "\n",
        "actor_name_map = {}\n",
        "movie_actor_map = {}\n",
        "actor_genre_map = {}\n",
        "\n",
        "with open(\"imdb_movies_2000to2022.prolific.json\", \"r\", encoding=\"utf-8\") as in_file:\n",
        "  for line in in_file:\n",
        "    this_movie= json.loads(line)\n",
        "\n",
        "    for actor_id, actor_name in this_movie['actors']:\n",
        "      actor_name_map[actor_id] = actor_name\n",
        "\n",
        "    for actor_id, actor_name in this_movie['actors']:\n",
        "      this_actors_genres = actor_genre_map.get(actor_id, {})\n",
        "      for g in this_movie[\"genres\"]:\n",
        "        this_actors_genres[g] = this_actors_genres.get(g, 0)+1\n",
        "      actor_genre_map[actor_id] = this_actors_genres\n",
        "\n",
        "    movie_actor_map[this_movie[\"imdb_id\"] ] = {\n",
        "        \"movie\": this_movie[\"title\"],\n",
        "        \"actors\": set([item[0] for item in this_movie['actors']]),\n",
        "        \"genres\": this_movie[\"genres\"]\n",
        "    }\n",
        "index = actor_name_map.keys()\n",
        "rows= [actor_genre_map[k] for k in index]\n",
        "df= pd.DataFrame(rows, index=index).fillna(0).astype(float)\n",
        "\n",
        "row_sums= df.sum(axis=1)\n",
        "safe_mask=row_sums>0\n",
        "df=df.loc[safe_mask]\n",
        "row_sums=row_sums.loc[safe_mask]\n",
        "df_norm=df.divide(row_sums,axis=0)\n",
        "\n",
        "target_actor_id= 'nm1165110'\n",
        "\n",
        "euclid= DistanceMetric.get_metric(\"euclidean\")\n",
        "all_vecs= df_norm.to_numpy()\n",
        "target_vec=df_norm.loc[target_actor_id].to_numpy().reshape(1,-1)\n",
        "distances= euclid.pairwise(all_vecs, target_vec) [:,0]\n",
        "\n",
        "pairs= [(aid,d) for aid,d in zip(df_norm.index.tolist(),distances) if aid != target_actor_id]\n",
        "top10= sorted(pairs, key=lambda x: x[1]) [:10]\n",
        "\n",
        "print(\"euclidean distance on L1 Normalization\")\n",
        "for aid, d in top10:\n",
        "  print(aid, actor_name_map.get(aid, \"Unknown\"), d, int(df.loc[aid].sum()))"
      ],
      "metadata": {
        "id": "IU_IwfiGmNoR",
        "colab": {
          "base_uri": "https://localhost:8080/"
        },
        "outputId": "0740ec3c-c74d-4cc8-ef90-29b82fb7e139"
      },
      "execution_count": 2,
      "outputs": [
        {
          "output_type": "stream",
          "name": "stdout",
          "text": [
            "euclidean distance on L1 Normalization\n",
            "nm0000129 Tom Cruise 0.09789754549980823 61\n",
            "nm0829032 Ray Stevenson 0.12496192961003849 23\n",
            "nm0147147 Henry Cavill 0.12797458635598966 37\n",
            "nm5899377 Tiger Shroff 0.134492704809032 20\n",
            "nm0003244 Jordi Mollà 0.13472631787668815 15\n",
            "nm1679372 Sudeep 0.1359654753899035 15\n",
            "nm2018237 Taylor Kitsch 0.14047239052070495 21\n",
            "nm4043618 Tom Holland 0.14238483556047632 34\n",
            "nm2207222 Scott Eastwood 0.14953462799296724 29\n",
            "nm5744729 Vaani Kapoor 0.15437392795883362 11\n"
          ]
        }
      ]
    },
    {
      "cell_type": "code",
      "source": [
        "cosine_distances= pairwise_distances(df,df.loc[[target_actor_id]], metric=\"cosine\") [:,0]\n",
        "cosine_pairs= [(aid,d) for aid,d in zip(df.index, cosine_distances) if aid != target_actor_id]\n",
        "cosine_top10=sorted(cosine_pairs, key= lambda x: x[1]) [:10]\n",
        "\n",
        "print(\"Top 10 most similar actors using Cosine similarity\")\n",
        "for aid,d in cosine_top10:\n",
        "      print(aid, actor_name_map.get(aid, \"Unknown\"), f\"dists={d:.4f}\", int(df.loc[aid].sum()))"
      ],
      "metadata": {
        "colab": {
          "base_uri": "https://localhost:8080/"
        },
        "id": "JLjox5dxUXTd",
        "outputId": "da6af310-1904-48c9-bc5a-2c4c3517212b"
      },
      "execution_count": 3,
      "outputs": [
        {
          "output_type": "stream",
          "name": "stdout",
          "text": [
            "Top 10 most similar actors using Cosine similarity\n",
            "nm0000129 Tom Cruise dists=0.0269 61\n",
            "nm0147147 Henry Cavill dists=0.0446 37\n",
            "nm0829032 Ray Stevenson dists=0.0452 23\n",
            "nm5899377 Tiger Shroff dists=0.0488 20\n",
            "nm1679372 Sudeep dists=0.0517 15\n",
            "nm0003244 Jordi Mollà dists=0.0534 15\n",
            "nm0636280 Richard Norton dists=0.0565 4\n",
            "nm0607884 Mark Mortimer dists=0.0565 4\n",
            "nm2018237 Taylor Kitsch dists=0.0580 21\n",
            "nm4043618 Tom Holland dists=0.0602 34\n"
          ]
        }
      ]
    },
    {
      "cell_type": "markdown",
      "source": [
        "Extra Practice. Adding Movie-Vote Counts to Actor-Genre Matrix"
      ],
      "metadata": {
        "id": "ZhP8013Ra0iv"
      }
    },
    {
      "cell_type": "code",
      "source": [
        "# ---------- 1) Load data and build maps ----------\n",
        "actor_name_map = {}\n",
        "actor_genre_map = {}\n",
        "actor_votes_map = {}\n",
        "\n",
        "dataset_path = \"imdb_movies_2000to2022.prolific.json\"\n",
        "\n",
        "with open(dataset_path, \"r\", encoding=\"utf-8\") as f:\n",
        "    for line in f:\n",
        "        m = json.loads(line)\n",
        "\n",
        "        votes = 0\n",
        "        r = m.get(\"rating\")\n",
        "        if isinstance(r, dict):\n",
        "            votes = int(r.get(\"votes\", 0) or 0)\n",
        "\n",
        "        genres = m.get(\"genres\", []) or []\n",
        "        for actor_id, actor_name in m.get(\"actors\", []) or []:\n",
        "            actor_name_map[actor_id] = actor_name\n",
        "\n",
        "            gcounts = actor_genre_map.get(actor_id, {})\n",
        "            for g in genres:\n",
        "                gcounts[g] = gcounts.get(g, 0) + 1\n",
        "            actor_genre_map[actor_id] = gcounts\n",
        "\n",
        "            actor_votes_map[actor_id] = actor_votes_map.get(actor_id, 0) + votes\n",
        "\n",
        "\n",
        "# ---------- 2) Actor x Genre dataframe ----------\n",
        "index = list(actor_name_map.keys())\n",
        "rows = [actor_genre_map.get(k, {}) for k in index]\n",
        "df = pd.DataFrame(rows, index=index).fillna(0).astype(float)\n",
        "\n",
        "# ---------- 3) L1 row normalization ----------\n",
        "row_sums = df.sum(axis=1)\n",
        "safe = row_sums > 0\n",
        "df.loc[safe] = df.loc[safe].div(row_sums[safe], axis=0)\n",
        "\n",
        "# ---------- 4) Pick query actor ----------\n",
        "target_actor_id = \"nm1165110\"  # Chris Hemsworth\n",
        "\n",
        "# ---------- 5) Euclidean on normalized genres (baseline) ----------\n",
        "euclid = DistanceMetric.get_metric(\"euclidean\")\n",
        "all_vecs = df.to_numpy()\n",
        "qv = df.loc[target_actor_id].to_numpy().reshape(1, -1)\n",
        "dists = euclid.pairwise(all_vecs, qv)[:, 0]\n",
        "pairs = [(aid, d) for aid, d in zip(df.index, dists) if aid != target_actor_id]\n",
        "top10 = sorted(pairs, key=lambda x: x[1])[:10]\n",
        "\n",
        "print(\"Euclidean distance on L1-normalized Genre Matrix (no votes)\")\n",
        "for aid, d in top10:\n",
        "    print(aid, actor_name_map.get(aid, \"Unknown\"), f\"{d:.6f}\")\n",
        "\n",
        "# ---------- 6) Add the 'votes' column (total votes per actor) ----------\n",
        "df_with_votes = df.copy()\n",
        "df_with_votes[\"votes\"] = df_with_votes.index.map(lambda aid: actor_votes_map.get(aid, 0))\n",
        "\n",
        "\n",
        "all_vecs_v = df_with_votes.to_numpy()\n",
        "qv_v = df_with_votes.loc[target_actor_id].to_numpy().reshape(1, -1)\n",
        "dists_v = euclid.pairwise(all_vecs_v, qv_v)[:, 0]\n",
        "pairs_v = [(aid, d) for aid, d in zip(df_with_votes.index, dists_v) if aid != target_actor_id]\n",
        "top10_v = sorted(pairs_v, key=lambda x: x[1])[:10]\n",
        "\n",
        "print(\"\\nEuclidean distance AFTER adding raw 'votes' column (unscaled)\")\n",
        "for aid, d in top10_v:\n",
        "    print(aid, actor_name_map.get(aid, \"Unknown\"), f\"{d:.6f}\", \"votes\", actor_votes_map.get(aid, 0))\n",
        "\n",
        "# ---------- 7) Min/Max normalize only the 'votes' column, then recalc ----------\n",
        "df_votes_scaled = df_with_votes.copy()\n",
        "vmin, vmax = df_votes_scaled[\"votes\"].min(), df_votes_scaled[\"votes\"].max()\n",
        "if vmax > vmin:\n",
        "    df_votes_scaled[\"votes\"] = (df_votes_scaled[\"votes\"] - vmin) / (vmax - vmin)\n",
        "else:\n",
        "    df_votes_scaled[\"votes\"] = 0.0\n",
        "\n",
        "\n",
        "all_vecs_s = df_votes_scaled.to_numpy()\n",
        "qv_s = df_votes_scaled.loc[target_actor_id].to_numpy().reshape(1, -1)\n",
        "dists_s = euclid.pairwise(all_vecs_s, qv_s)[:, 0]\n",
        "pairs_s = [(aid, d) for aid, d in zip(df_votes_scaled.index, dists_s) if aid != target_actor_id]\n",
        "top10_s = sorted(pairs_s, key=lambda x: x[1])[:10]\n",
        "\n",
        "print(\"\\nEuclidean distance AFTER adding 'votes' with Min/Max normalization\")\n",
        "for aid, d in top10_s:\n",
        "    print(aid, actor_name_map.get(aid, \"Unknown\"), f\"{d:.6f}\", \"norm_votes\", f\"{df_votes_scaled.loc[aid, 'votes']:.4f}\")\n",
        "\n",
        "# ---------- 8) One-paragraph comparison (printed) ----------\n",
        "print(\"\\nComparison:\")\n",
        "print(\n",
        "    \"Without votes, similarity comes only from genre distribution.\\n\"\n",
        "    \"Adding raw vote totals changes rankings a lot because the votes column has a much larger scale than the genre features,\\n\"\n",
        "    \"so distance is dominated by popularity.\\n\"\n",
        "    \"After applying Min/Max scaling to the votes column (0–1 range), the rankings become more balanced,\\n\"\n",
        "    \"reflecting both genre patterns and relative popularity without letting votes overwhelm the metric.\"\n",
        ")\n"
      ],
      "metadata": {
        "colab": {
          "base_uri": "https://localhost:8080/"
        },
        "id": "G7_A_QtUa2SE",
        "outputId": "ce4a043a-11ac-45cf-8c19-1ca14a9d8128"
      },
      "execution_count": 8,
      "outputs": [
        {
          "output_type": "stream",
          "name": "stdout",
          "text": [
            "Euclidean distance on L1-normalized Genre Matrix (no votes)\n",
            "nm0000129 Tom Cruise 0.097898\n",
            "nm0829032 Ray Stevenson 0.124962\n",
            "nm0147147 Henry Cavill 0.127975\n",
            "nm5899377 Tiger Shroff 0.134493\n",
            "nm0003244 Jordi Mollà 0.134726\n",
            "nm1679372 Sudeep 0.135965\n",
            "nm2018237 Taylor Kitsch 0.140472\n",
            "nm4043618 Tom Holland 0.142385\n",
            "nm2207222 Scott Eastwood 0.149535\n",
            "nm5744729 Vaani Kapoor 0.154374\n",
            "\n",
            "Euclidean distance AFTER adding raw 'votes' column (unscaled)\n",
            "nm0000323 Michael Caine 16188.000003 votes 7851747\n",
            "nm0000242 Mark Wahlberg 122044.000000 votes 7713515\n",
            "nm0004266 Anne Hathaway 471724.000000 votes 7363835\n",
            "nm0350453 Jake Gyllenhaal 562559.000000 votes 7273000\n",
            "nm0000129 Tom Cruise 584839.000000 votes 7250720\n",
            "nm0005351 Ryan Reynolds 591712.000000 votes 7243847\n",
            "nm0177896 Bradley Cooper 601901.000000 votes 7233658\n",
            "nm0000204 Natalie Portman 713529.000000 votes 7122030\n",
            "nm0000136 Johnny Depp 764243.000000 votes 8599802\n",
            "nm0000158 Tom Hanks 775918.000000 votes 7059641\n",
            "\n",
            "Euclidean distance AFTER adding 'votes' with Min/Max normalization\n",
            "nm0000129 Tom Cruise 0.106603 norm_votes 0.5231\n",
            "nm0089217 Orlando Bloom 0.204066 norm_votes 0.6707\n",
            "nm0000242 Mark Wahlberg 0.211901 norm_votes 0.5565\n",
            "nm0000226 Will Smith 0.218441 norm_votes 0.4701\n",
            "nm0000168 Samuel L. Jackson 0.220435 norm_votes 0.6895\n",
            "nm0000136 Johnny Depp 0.229479 norm_votes 0.6204\n",
            "nm0425005 Dwayne Johnson 0.232657 norm_votes 0.4013\n",
            "nm0000553 Liam Neeson 0.235914 norm_votes 0.4768\n",
            "nm0262635 Chris Evans 0.237375 norm_votes 0.7227\n",
            "nm0413168 Hugh Jackman 0.239467 norm_votes 0.6694\n",
            "\n",
            "Comparison:\n",
            "Without votes, similarity comes only from genre distribution.\n",
            "Adding raw vote totals changes rankings a lot because the votes column has a much larger scale than the genre features,\n",
            "so distance is dominated by popularity.\n",
            "After applying Min/Max scaling to the votes column (0–1 range), the rankings become more balanced,\n",
            "reflecting both genre patterns and relative popularity without letting votes overwhelm the metric.\n"
          ]
        }
      ]
    }
  ]
}