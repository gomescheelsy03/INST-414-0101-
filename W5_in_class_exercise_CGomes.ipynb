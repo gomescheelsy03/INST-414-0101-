{
  "nbformat": 4,
  "nbformat_minor": 0,
  "metadata": {
    "colab": {
      "provenance": [],
      "authorship_tag": "ABX9TyOfAClQvN9q24OFleJA1s+w",
      "include_colab_link": true
    },
    "kernelspec": {
      "name": "python3",
      "display_name": "Python 3"
    },
    "language_info": {
      "name": "python"
    }
  },
  "cells": [
    {
      "cell_type": "markdown",
      "metadata": {
        "id": "view-in-github",
        "colab_type": "text"
      },
      "source": [
        "<a href=\"https://colab.research.google.com/github/gomescheelsy03/INST-414-0101-/blob/main/W5_in_class_exercise_CGomes.ipynb\" target=\"_parent\"><img src=\"https://colab.research.google.com/assets/colab-badge.svg\" alt=\"Open In Colab\"/></a>"
      ]
    },
    {
      "cell_type": "code",
      "execution_count": null,
      "metadata": {
        "id": "kWnTk5u-1BLT"
      },
      "outputs": [],
      "source": [
        "# Name: Chelsy Gomes\n",
        "# Instructor: Cody Buntain\n",
        "# Course: INST414 (0101)\n",
        "# Date: 10/03/2025\n",
        "# Assignment: In-Class Exercise Week 5"
      ]
    },
    {
      "cell_type": "markdown",
      "source": [
        "Exercise 1. Finding Similar Actors based on Genre"
      ],
      "metadata": {
        "id": "JNBZE0FV7YPI"
      }
    },
    {
      "cell_type": "code",
      "source": [
        "from collections import defaultdict, Counter\n",
        "import pandas as pd\n",
        "import numpy as np\n",
        "import json\n",
        "from sklearn.metrics import DistanceMetric\n"
      ],
      "metadata": {
        "id": "18DAG79m1hLx"
      },
      "execution_count": 2,
      "outputs": []
    },
    {
      "cell_type": "code",
      "source": [
        "actor_name_map = {}\n",
        "actor_genre_counts = defaultdict(Counter)\n",
        "all_genres = set()\n"
      ],
      "metadata": {
        "id": "YVAwin9C4sQh"
      },
      "execution_count": 3,
      "outputs": []
    },
    {
      "cell_type": "code",
      "source": [
        "file_path = \"/content/imdb_movies_2000to2022.prolific.json\"\n",
        "\n",
        "with open(file_path, \"r\") as in_file:\n",
        "    for line in in_file:\n",
        "        movie = json.loads(line)\n",
        "        genres = movie.get(\"genres\", []) or []\n",
        "        actors = movie.get(\"actors\", []) or []\n",
        "\n",
        "        for g in genres:\n",
        "            all_genres.add(g)\n",
        "\n",
        "        for actor_id, actor_name in actors:\n",
        "            actor_name_map[actor_id] = actor_name\n",
        "            for g in genres:\n",
        "                actor_genre_counts[actor_id][g] += 1\n"
      ],
      "metadata": {
        "id": "CnqpKLeW4uAU"
      },
      "execution_count": 4,
      "outputs": []
    },
    {
      "cell_type": "code",
      "source": [
        "genres_sorted = sorted(all_genres)\n",
        "\n",
        "df = pd.DataFrame.from_dict(\n",
        "    {aid: [actor_genre_counts[aid].get(g, 0) for g in genres_sorted]\n",
        "     for aid in actor_genre_counts},\n",
        "    orient=\"index\"\n",
        ").astype(int)\n",
        "\n",
        "actor_names = pd.Series({aid: actor_name_map.get(aid, aid) for aid in df.index}, name=\"name\")\n"
      ],
      "metadata": {
        "id": "oUsQA1sU41Q3"
      },
      "execution_count": 5,
      "outputs": []
    },
    {
      "cell_type": "code",
      "source": [
        "query_actor_id = \"nm1165110\"\n",
        "if query_actor_id not in df.index:\n",
        "    raise ValueError(\"Not found in the dataset\")\n"
      ],
      "metadata": {
        "id": "cy4WHP6R42sg"
      },
      "execution_count": 6,
      "outputs": []
    },
    {
      "cell_type": "code",
      "source": [
        "dist = DistanceMetric.get_metric(\"euclidean\")\n",
        "\n",
        "\n",
        "query_vec = df.loc[[query_actor_id]].values\n",
        "all_vecs = df.values\n",
        "\n",
        "distances = dist.pairwise(query_vec, all_vecs).ravel()\n",
        "dist_series = pd.Series(distances, index=df.index)\n",
        "\n",
        "top10 = dist_series.drop(index=[query_actor_id]).sort_values().head(10)\n"
      ],
      "metadata": {
        "id": "vhZnjdzG43rE"
      },
      "execution_count": 7,
      "outputs": []
    },
    {
      "cell_type": "code",
      "source": [
        "result = (\n",
        "    pd.DataFrame(\n",
        "        {\n",
        "            \"actor_name\": actor_names.loc[top10.index].values,\n",
        "            \"actor_id\": top10.index,\n",
        "            \"euclidean_distance\": top10.values,\n",
        "        }\n",
        "    )\n",
        "    .reset_index(drop=True)\n",
        ")\n",
        "\n",
        "print(\"Top 10 actors most similar to Chris Hemsworth (nm1165110) by genre profile (Euclidean):\")\n",
        "print(result.to_string(index=False))\n"
      ],
      "metadata": {
        "colab": {
          "base_uri": "https://localhost:8080/"
        },
        "id": "AMqcvZB944_m",
        "outputId": "be6c5da1-6b92-4ccc-90f3-c11b9d80d752"
      },
      "execution_count": 8,
      "outputs": [
        {
          "output_type": "stream",
          "name": "stdout",
          "text": [
            "Top 10 actors most similar to Chris Hemsworth (nm1165110) by genre profile (Euclidean):\n",
            "    actor_name  actor_id  euclidean_distance\n",
            "    Tom Cruise nm0000129            5.477226\n",
            "  Henry Cavill nm0147147            8.246211\n",
            " Tyrese Gibson nm0879085            8.831761\n",
            " Orlando Bloom nm0089217            9.055385\n",
            "    Vin Diesel nm0004874            9.219544\n",
            "Angelina Jolie nm0001401            9.219544\n",
            "   Adrian Paul nm0001600            9.591663\n",
            "        Jet Li nm0001472            9.591663\n",
            " Mark Dacascos nm0001092            9.797959\n",
            " Lorenzo Lamas nm0001444           10.049876\n"
          ]
        }
      ]
    },
    {
      "cell_type": "markdown",
      "source": [
        "Extra Practice. Finding Similar Actors based on Co-stars"
      ],
      "metadata": {
        "id": "XEC3cERL7a1o"
      }
    },
    {
      "cell_type": "code",
      "source": [
        "from collections import defaultdict, Counter\n",
        "import pandas as pd\n",
        "import numpy as np\n",
        "import json\n",
        "from sklearn.metrics import DistanceMetric\n"
      ],
      "metadata": {
        "id": "MPQxeh0BC0qc"
      },
      "execution_count": 3,
      "outputs": []
    },
    {
      "cell_type": "code",
      "source": [
        "\n",
        "file_path = \"/content/imdb_movies_2000to2022.prolific.json\"\n"
      ],
      "metadata": {
        "id": "qwhu357-C2Z-"
      },
      "execution_count": 4,
      "outputs": []
    },
    {
      "cell_type": "code",
      "source": [
        "actor_name_map = {}\n",
        "costar_counts  = defaultdict(Counter)\n",
        "\n",
        "with open(file_path, \"r\", encoding=\"utf-8\") as f:\n",
        "    for line in f:\n",
        "        movie  = json.loads(line)\n",
        "        actors = movie.get(\"actors\", []) or []  # list of [actor_id, actor_name]\n",
        "\n",
        "        ids = []\n",
        "        for aid, aname in actors:\n",
        "            actor_name_map[aid] = aname\n",
        "            ids.append(aid)\n",
        "\n",
        "        n = len(ids)\n",
        "        for i in range(n):\n",
        "            ai = ids[i]\n",
        "            for j in range(i+1, n):\n",
        "                aj = ids[j]\n",
        "                costar_counts[ai][aj] += 1\n",
        "                costar_counts[aj][ai] += 1\n"
      ],
      "metadata": {
        "id": "hyTelGGGC6Gz"
      },
      "execution_count": 5,
      "outputs": []
    },
    {
      "cell_type": "code",
      "source": [
        "query_actor_id = \"nm0424060\"   # Scarlett Johansson\n",
        "\n",
        "if query_actor_id not in costar_counts:\n",
        "    raise ValueError(\"Scarlett Johansson not found in dataset.\")\n",
        "\n",
        "# Use Scarlett’s co-stars as features\n",
        "features = set(costar_counts[query_actor_id].keys())\n",
        "features = sorted(features)\n",
        "\n",
        "# Scarlett’s vector\n",
        "query_vec = np.array([costar_counts[query_actor_id].get(f, 0) for f in features]).reshape(1, -1)\n",
        "\n",
        "# Other actors’ vectors\n",
        "rows = []\n",
        "actor_ids = []\n",
        "for aid in actor_name_map.keys():\n",
        "    if aid == query_actor_id:\n",
        "        continue\n",
        "    vec = [costar_counts[aid].get(f, 0) for f in features]\n",
        "    if any(vec):   # skip if no overlap at all\n",
        "        rows.append(vec)\n",
        "        actor_ids.append(aid)\n",
        "\n",
        "all_vecs = np.array(rows)\n"
      ],
      "metadata": {
        "id": "EAcbW_pzC7Rj"
      },
      "execution_count": 6,
      "outputs": []
    },
    {
      "cell_type": "code",
      "source": [
        "dist = DistanceMetric.get_metric(\"euclidean\")\n",
        "\n",
        "distances = dist.pairwise(query_vec, all_vecs).ravel()\n",
        "dist_series = pd.Series(distances, index=actor_ids)\n"
      ],
      "metadata": {
        "id": "kn0V1eHWC8tm"
      },
      "execution_count": 7,
      "outputs": []
    },
    {
      "cell_type": "code",
      "source": [
        "top10 = dist_series.sort_values().head(10)\n",
        "\n",
        "result = pd.DataFrame({\n",
        "    \"actor_name\": [actor_name_map[aid] for aid in top10.index],\n",
        "    \"actor_id\": top10.index,\n",
        "    \"euclidean_distance\": top10.values\n",
        "}).reset_index(drop=True)\n",
        "\n",
        "print(f\"Top 10 actors most similar to {actor_name_map[query_actor_id]} ({query_actor_id}) by co-star profile (Euclidean):\")\n",
        "print(result.to_string(index=False))\n"
      ],
      "metadata": {
        "colab": {
          "base_uri": "https://localhost:8080/"
        },
        "id": "BP-Vpg-3C9zp",
        "outputId": "962bcff5-5f5a-4c20-b954-57a8a0965daf"
      },
      "execution_count": 8,
      "outputs": [
        {
          "output_type": "stream",
          "name": "stdout",
          "text": [
            "Top 10 actors most similar to Scarlett Johansson (nm0424060) by co-star profile (Euclidean):\n",
            "       actor_name  actor_id  euclidean_distance\n",
            "     Mark Ruffalo nm0749263           10.198039\n",
            "Samuel L. Jackson nm0000168           10.583005\n",
            "  Chris Hemsworth nm1165110           10.677078\n",
            "Robert Downey Jr. nm0000375           10.862780\n",
            "    Nicole Kidman nm0000173           10.862780\n",
            "Michelle Monaghan nm1157358           10.908712\n",
            "      Colin Firth nm0000147           10.908712\n",
            "  Jake Gyllenhaal nm0350453           10.908712\n",
            "      Chris Evans nm0262635           10.954451\n",
            "        Ed Harris nm0000438           10.954451\n"
          ]
        }
      ]
    }
  ]
}